{
  "nbformat": 4,
  "nbformat_minor": 0,
  "metadata": {
    "colab": {
      "name": "3108-김지훈(논술형).ipynb",
      "provenance": [],
      "authorship_tag": "ABX9TyOXQD4dl7T6WUDilpwnuO5S",
      "include_colab_link": true
    },
    "kernelspec": {
      "name": "python3",
      "display_name": "Python 3"
    },
    "language_info": {
      "name": "python"
    }
  },
  "cells": [
    {
      "cell_type": "markdown",
      "metadata": {
        "id": "view-in-github",
        "colab_type": "text"
      },
      "source": [
        "<a href=\"https://colab.research.google.com/github/Kimjihoon2/colab/blob/main/3108_%EA%B9%80%EC%A7%80%ED%9B%88(%EB%85%BC%EC%88%A0%ED%98%95).ipynb\" target=\"_parent\"><img src=\"https://colab.research.google.com/assets/colab-badge.svg\" alt=\"Open In Colab\"/></a>"
      ]
    },
    {
      "cell_type": "markdown",
      "source": [
        "2022학년도 응용프로그래밍 개발 - 논술형\n",
        "컴퓨터과 3학년 1반 08번 김지훈"
      ],
      "metadata": {
        "id": "cHceaQtq6te5"
      }
    },
    {
      "cell_type": "code",
      "source": [],
      "metadata": {
        "id": "qHu1SEz962iS"
      },
      "execution_count": null,
      "outputs": []
    }
  ]
}