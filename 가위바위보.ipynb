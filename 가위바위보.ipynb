{
  "nbformat": 4,
  "nbformat_minor": 0,
  "metadata": {
    "colab": {
      "name": "Untitled4.ipynb",
      "provenance": [],
      "authorship_tag": "ABX9TyN3QVD9cQ+9ySKnP/fTsQq2",
      "include_colab_link": true
    },
    "kernelspec": {
      "name": "python3",
      "display_name": "Python 3"
    },
    "language_info": {
      "name": "python"
    }
  },
  "cells": [
    {
      "cell_type": "markdown",
      "metadata": {
        "id": "view-in-github",
        "colab_type": "text"
      },
      "source": [
        "<a href=\"https://colab.research.google.com/github/Kimjihoon2/colab/blob/main/%EA%B0%80%EC%9C%84%EB%B0%94%EC%9C%84%EB%B3%B4.ipynb\" target=\"_parent\"><img src=\"https://colab.research.google.com/assets/colab-badge.svg\" alt=\"Open In Colab\"/></a>"
      ]
    },
    {
      "cell_type": "code",
      "execution_count": 6,
      "metadata": {
        "colab": {
          "base_uri": "https://localhost:8080/"
        },
        "id": "SDY1HuwlSdWb",
        "outputId": "70025bc8-8a98-4c25-c2f1-844b24f61513"
      },
      "outputs": [
        {
          "output_type": "stream",
          "name": "stdout",
          "text": [
            "100보다 작습니다\n"
          ]
        }
      ],
      "source": [
        "num=99\n",
        "if num < 100 :\n",
        "  print(\"100보다 작습니다\")"
      ]
    },
    {
      "cell_type": "code",
      "source": [
        "num = int(input(\"숫자 입력 : \"))\n",
        "if num % 2 == 0 :\n",
        "  print(num,\"은(는) 짝수입니다\")\n",
        "else :\n",
        "  print(num,\"은(는) 홀수입니다\")"
      ],
      "metadata": {
        "colab": {
          "base_uri": "https://localhost:8080/"
        },
        "id": "njuMRFOlTGOI",
        "outputId": "2e7d6b75-e7d0-4576-b3b6-b01b30cabc4a"
      },
      "execution_count": 11,
      "outputs": [
        {
          "output_type": "stream",
          "name": "stdout",
          "text": [
            "숫자 입력 : 20\n",
            "20 은(는) 짝수입니다\n"
          ]
        }
      ]
    },
    {
      "cell_type": "code",
      "source": [
        "import random\n",
        "com_number = random randint()"
      ],
      "metadata": {
        "id": "47N96ZPNULm4"
      },
      "execution_count": null,
      "outputs": []
    },
    {
      "cell_type": "code",
      "source": [
        " "
      ],
      "metadata": {
        "id": "oqQEmyJ2Yzit"
      },
      "execution_count": null,
      "outputs": []
    },
    {
      "cell_type": "markdown",
      "source": [
        "가위바위보"
      ],
      "metadata": {
        "id": "ci_cmL6Sbkk8"
      }
    },
    {
      "cell_type": "code",
      "source": [],
      "metadata": {
        "id": "aP067Kn9TsDP"
      },
      "execution_count": null,
      "outputs": []
    }
  ]
}