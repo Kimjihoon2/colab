{
  "nbformat": 4,
  "nbformat_minor": 0,
  "metadata": {
    "colab": {
      "name": "Lession4.ipynb",
      "provenance": [],
      "authorship_tag": "ABX9TyNr4NMwMP8cBF2akyCJf0P7",
      "include_colab_link": true
    },
    "kernelspec": {
      "name": "python3",
      "display_name": "Python 3"
    },
    "language_info": {
      "name": "python"
    }
  },
  "cells": [
    {
      "cell_type": "markdown",
      "metadata": {
        "id": "view-in-github",
        "colab_type": "text"
      },
      "source": [
        "<a href=\"https://colab.research.google.com/github/Kimjihoon2/colab/blob/main/Lession4.ipynb\" target=\"_parent\"><img src=\"https://colab.research.google.com/assets/colab-badge.svg\" alt=\"Open In Colab\"/></a>"
      ]
    },
    {
      "cell_type": "code",
      "execution_count": 2,
      "metadata": {
        "colab": {
          "base_uri": "https://localhost:8080/"
        },
        "id": "rxMv1Hv0zrit",
        "outputId": "febb945f-c380-4a18-b370-d2bb0d4ef62c"
      },
      "outputs": [
        {
          "output_type": "stream",
          "name": "stdout",
          "text": [
            "\n",
            "줄바꿈\n",
            "연습 \n",
            "\t탭키\t연습 \n",
            "어떤 글자를 \"강조\"하는 효과1\n",
            "어떤 글자를 \"강조\"하는 효과2\n",
            "\\\\ 백슬래시 2개 출력\n"
          ]
        }
      ],
      "source": [
        "print(\"\\n줄바꿈\\n연습 \")\n",
        "print(\"\\t탭키\\t연습 \")\n",
        "print(\"어떤 글자를 \\\"강조\\\"하는 효과1\")\n",
        "print(\"어떤 글자를 \\\"강조\\\"하는 효과2\")\n",
        "print(\"\\\\\\\\ 백슬래시 2개 출력\")"
      ]
    },
    {
      "cell_type": "code",
      "source": [
        "var1 = input(\"첫 번째 문자열 ==>\")\n",
        "var2 = input(\"두 번째 문자열 ==>\")\n",
        "\n",
        "len1 = len(var1)\n",
        "len2 = len(var2)\n",
        "\n",
        "diff = len1 - len2\n",
        "\n",
        "print(\"두 문자열의 길이 차이는\", diff, \"입니다.\")"
      ],
      "metadata": {
        "colab": {
          "base_uri": "https://localhost:8080/"
        },
        "id": "fpehllM44yFS",
        "outputId": "692433b5-d2a6-4824-8b20-f99b018dfdd9"
      },
      "execution_count": 3,
      "outputs": [
        {
          "output_type": "stream",
          "name": "stdout",
          "text": [
            "첫 번째 문자열 ==>난생처음 파이썬\n",
            "두 번째 문자열 ==>first python\n",
            "두 문자열의 길이 차이는 -4 입니다.\n"
          ]
        }
      ]
    }
  ]
}