{
  "nbformat": 4,
  "nbformat_minor": 0,
  "metadata": {
    "colab": {
      "provenance": [],
      "authorship_tag": "ABX9TyPtRQZfwmbA6kT/yloO3c3U",
      "include_colab_link": true
    },
    "kernelspec": {
      "name": "python3",
      "display_name": "Python 3"
    },
    "language_info": {
      "name": "python"
    }
  },
  "cells": [
    {
      "cell_type": "markdown",
      "metadata": {
        "id": "view-in-github",
        "colab_type": "text"
      },
      "source": [
        "<a href=\"https://colab.research.google.com/github/Kimjihoon2/colab/blob/main/Untitled5.ipynb\" target=\"_parent\"><img src=\"https://colab.research.google.com/assets/colab-badge.svg\" alt=\"Open In Colab\"/></a>"
      ]
    },
    {
      "cell_type": "markdown",
      "source": [
        "형성평가"
      ],
      "metadata": {
        "id": "WgowGEqaLv9L"
      }
    },
    {
      "cell_type": "code",
      "source": [
        "num = int(input(\"숫자를 입력 ==> \"))\n",
        "\n",
        "if num > 100 :\n",
        "  if num < 1000 :\n",
        "    print(\"100보다 크고 1000보다 작군요.\")\n",
        "  else :\n",
        "    print(\"와 ~ 1000보다 크군요.\")\n",
        "else :\n",
        "  print(\"음~ 100보다 작군요.\")"
      ],
      "metadata": {
        "colab": {
          "base_uri": "https://localhost:8080/"
        },
        "id": "c3ENjneiMA4K",
        "outputId": "4baca46d-e5eb-4755-8b6e-a0ff3bb76f22"
      },
      "execution_count": 5,
      "outputs": [
        {
          "output_type": "stream",
          "name": "stdout",
          "text": [
            "숫자를 입력 ==> 200\n",
            "100보다 크고 1000보다 작군요.\n"
          ]
        }
      ]
    },
    {
      "cell_type": "markdown",
      "source": [
        "형성평가 2"
      ],
      "metadata": {
        "id": "oQVFVap0Nd3Y"
      }
    },
    {
      "cell_type": "code",
      "source": [
        "score = int(input(\"점수를 입력 ==> \"))\n",
        "\n",
        "if score >= 90 :\n",
        "  print(\"A\", end='')\n",
        "else :\n",
        "  if score >= 80 :\n",
        "    print(\"B\", end='')\n",
        "  else :\n",
        "    if score >= 70 :\n",
        "      print(\"C\", end='')\n",
        "    else :\n",
        "      if score >= 60 :\n",
        "        print(\"D\", end='')\n",
        "      else :\n",
        "        print(\"F\", end='')\n",
        "print(\"학점입니다\")"
      ],
      "metadata": {
        "colab": {
          "base_uri": "https://localhost:8080/"
        },
        "id": "hIF4ZlMtNaGY",
        "outputId": "864a34f5-cdb7-42eb-9292-1f6e0ebd70cb"
      },
      "execution_count": 9,
      "outputs": [
        {
          "output_type": "stream",
          "name": "stdout",
          "text": [
            "점수를 입력 ==> 50\n",
            "F학점입니다\n"
          ]
        }
      ]
    },
    {
      "cell_type": "code",
      "source": [
        "score = int(input(\"점수를 입력 ==> \"))\n",
        "if score >= 90 :\n",
        "  print(\"A\", end='')\n",
        "elif score >= 80 :\n",
        "  print(\"B\", end='')\n",
        "elif score >= 70 :\n",
        "  print(\"C\", end='')\n",
        "elif score >= 60 :\n",
        "  print(\"D\", end='')\n",
        "else :\n",
        "  print(\"F\", end='')\n",
        "  print(\"학점입니다\")"
      ],
      "metadata": {
        "colab": {
          "base_uri": "https://localhost:8080/"
        },
        "id": "xkTlwDLpPbeg",
        "outputId": "9258b8f7-2748-47bf-c393-7552927d70aa"
      },
      "execution_count": 12,
      "outputs": [
        {
          "output_type": "stream",
          "name": "stdout",
          "text": [
            "점수를 입력 ==> 80\n",
            "B"
          ]
        }
      ]
    },
    {
      "cell_type": "code",
      "source": [
        "age = int(input(\"나이를 입력 ==> \"))\n",
        "\n",
        "if age >= 18 :\n",
        "  print(\"즐거운 시간 되세요 ^^\")\n",
        "else :\n",
        "  print(\"집에 갈 시간이네요!\")\n",
        "\n",
        "print(\"협조 감사합니다\")"
      ],
      "metadata": {
        "colab": {
          "base_uri": "https://localhost:8080/"
        },
        "id": "3napE0RzP4aL",
        "outputId": "0a45b849-abd9-42f3-dff6-ab21d6bc5bbf"
      },
      "execution_count": 14,
      "outputs": [
        {
          "output_type": "stream",
          "name": "stdout",
          "text": [
            "나이를 입력 ==> 2\n",
            "집에 갈 시간이네요!\n",
            "협조 감사합니다\n"
          ]
        }
      ]
    },
    {
      "cell_type": "code",
      "source": [
        "for i in range(3) :\n",
        "   print(\"난생처음 파이썬은 재미있습니다\")"
      ],
      "metadata": {
        "colab": {
          "base_uri": "https://localhost:8080/"
        },
        "id": "gNsAUGIGnNCQ",
        "outputId": "327ebff1-8832-4aca-f23d-2ad1b3ca3fab"
      },
      "execution_count": 16,
      "outputs": [
        {
          "output_type": "stream",
          "name": "stdout",
          "text": [
            "난생처음 파이썬은 재미있습니다\n",
            "난생처음 파이썬은 재미있습니다\n",
            "난생처음 파이썬은 재미있습니다\n"
          ]
        }
      ]
    },
    {
      "cell_type": "code",
      "source": [
        "myList = [\"짜장면\",\"김밥\",\"라면\"]\n",
        "for i in myList :\n",
        "   print(i)"
      ],
      "metadata": {
        "colab": {
          "base_uri": "https://localhost:8080/"
        },
        "id": "rZa3QJu3vXse",
        "outputId": "8542f4f3-fdef-41f5-c251-ca83cec28039"
      },
      "execution_count": 17,
      "outputs": [
        {
          "output_type": "stream",
          "name": "stdout",
          "text": [
            "짜장면\n",
            "김밥\n",
            "라면\n"
          ]
        }
      ]
    },
    {
      "cell_type": "code",
      "source": [
        "for i in range(2,8,2):\n",
        "  print(i)"
      ],
      "metadata": {
        "colab": {
          "base_uri": "https://localhost:8080/"
        },
        "id": "cSebn9OWxIsB",
        "outputId": "ead0685f-9bdb-4717-cd55-f4623faaebcf"
      },
      "execution_count": 18,
      "outputs": [
        {
          "output_type": "stream",
          "name": "stdout",
          "text": [
            "2\n",
            "4\n",
            "6\n"
          ]
        }
      ]
    },
    {
      "cell_type": "code",
      "source": [
        "sum = 0\n",
        "for i in range(1,100,2):\n",
        "  sum = sum + i\n",
        "print(sum)"
      ],
      "metadata": {
        "colab": {
          "base_uri": "https://localhost:8080/"
        },
        "id": "Ni97mHrLxWDd",
        "outputId": "7665322c-0fa5-4cd9-c2ed-1df3aac0a348"
      },
      "execution_count": 29,
      "outputs": [
        {
          "output_type": "stream",
          "name": "stdout",
          "text": [
            "2500\n"
          ]
        }
      ]
    },
    {
      "cell_type": "code",
      "source": [
        "for i in range(3) :\n",
        "  for i in range(2) :\n",
        "    print(\"\")"
      ],
      "metadata": {
        "colab": {
          "base_uri": "https://localhost:8080/"
        },
        "id": "9dX4FWhOxaWB",
        "outputId": "403ba26e-ed2e-43c6-f53d-c0706139f272"
      },
      "execution_count": 30,
      "outputs": [
        {
          "output_type": "stream",
          "name": "stdout",
          "text": [
            "\n",
            "\n",
            "\n",
            "\n",
            "\n",
            "\n"
          ]
        }
      ]
    },
    {
      "cell_type": "code",
      "source": [],
      "metadata": {
        "id": "S-tkMUT03myE"
      },
      "execution_count": null,
      "outputs": []
    }
  ]
}