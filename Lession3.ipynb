{
  "nbformat": 4,
  "nbformat_minor": 0,
  "metadata": {
    "colab": {
      "name": "Lession3.ipynb",
      "provenance": [],
      "authorship_tag": "ABX9TyOh0dWTPlzhDGnN4G6YLsk7",
      "include_colab_link": true
    },
    "kernelspec": {
      "name": "python3",
      "display_name": "Python 3"
    },
    "language_info": {
      "name": "python"
    }
  },
  "cells": [
    {
      "cell_type": "markdown",
      "metadata": {
        "id": "view-in-github",
        "colab_type": "text"
      },
      "source": [
        "<a href=\"https://colab.research.google.com/github/Kimjihoon2/colab/blob/main/Lession3.ipynb\" target=\"_parent\"><img src=\"https://colab.research.google.com/assets/colab-badge.svg\" alt=\"Open In Colab\"/></a>"
      ]
    },
    {
      "cell_type": "code",
      "execution_count": null,
      "metadata": {
        "id": "CacG-5hc3JVU"
      },
      "outputs": [],
      "source": [
        "연산자 예제"
      ]
    },
    {
      "cell_type": "code",
      "source": [
        "num = int(input(\"나눠지는 수 ==>\"))\n",
        "num2 = int(input(\"나누는 수\"))\n",
        "q = num1 // num2\n",
        "r = num1 % num2\n",
        "print(num1, '을(를)', num2, \"(으)로 나눈 몫은\", q, '입니다.')\n",
        "print(num1, '을(를)', num2, \"(으)로 나눈 나머지는\", r, '입니다.')"
      ],
      "metadata": {
        "id": "sKoIfY0e4ksa"
      },
      "execution_count": null,
      "outputs": []
    },
    {
      "cell_type": "code",
      "source": [
        "pound = int(input('파운드(lb)를 입력하세요 :'))\n",
        "kg = pound * 0.453592\n",
        "print(pound,\"파운드(lb)는\", round(kg, 5), \"킬로그램(kg)입니다.\")\n",
        "\n",
        "pound = int(int(input(\"킬로그램(kg)을 입력하세요 :\"))\n",
        "pound = kg * 2.204623\n",
        "print(kg, \"킬로그램(kg)은\", round(poind, 5), \"파운드(lb)입니다.\")"
      ],
      "metadata": {
        "id": "oZtYpFHn7fVw"
      },
      "execution_count": null,
      "outputs": []
    },
    {
      "cell_type": "code",
      "source": [
        "total = 0\n",
        "\n",
        "#구입한 물품\n",
        "total -= 900 * 10 \n",
        "total -=3500 *5\n",
        "\n",
        "#판매한 물품\n",
        "total += 1800 *2\n",
        "total += 4000 * 4\n",
        "total += 1500\n",
        "total += 2000 * 4\n",
        "total +=1800 * 5\n",
        "\n",
        "print(\"오늘 총 매출액은\",total, \"원입니다.\")"
      ],
      "metadata": {
        "id": "8iRvDMAh_Zho"
      },
      "execution_count": null,
      "outputs": []
    },
    {
      "cell_type": "code",
      "source": [
        "score = int(intput(\"필기 시험점수를 입력하세요 ==>\"))\n",
        "print(score >=70)"
      ],
      "metadata": {
        "id": "pgTNMF0vFC5R"
      },
      "execution_count": null,
      "outputs": []
    },
    {
      "cell_type": "code",
      "source": [
        "python = 3\n",
        "mobile = 2\n",
        "excel = 1\n",
        "\n",
        "A = 4.5\n",
        "AO = 4.0\n",
        "B = 3.5\n",
        "\n",
        "avg = ((python * B)+ (mobile *AO)+ (excel * A))/(python + mobile + excel)\n",
        "print(\"평균 학점 :\",AVG)"
      ],
      "metadata": {
        "id": "GlKuNtGoGfyS"
      },
      "execution_count": null,
      "outputs": []
    },
    {
      "cell_type": "code",
      "source": [
        ""
      ],
      "metadata": {
        "id": "lDRvWMBcJigT"
      },
      "execution_count": null,
      "outputs": []
    }
  ]
}