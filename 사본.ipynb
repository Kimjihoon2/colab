{
  "nbformat": 4,
  "nbformat_minor": 0,
  "metadata": {
    "colab": {
      "name": "Untitled1.ipynb",
      "provenance": [],
      "authorship_tag": "ABX9TyPl2uMNWVK3qKoyUj2My1aS",
      "include_colab_link": true
    },
    "kernelspec": {
      "name": "python3",
      "display_name": "Python 3"
    },
    "language_info": {
      "name": "python"
    }
  },
  "cells": [
    {
      "cell_type": "markdown",
      "metadata": {
        "id": "view-in-github",
        "colab_type": "text"
      },
      "source": [
        "<a href=\"https://colab.research.google.com/github/Kimjihoon2/colab/blob/main/%EC%82%AC%EB%B3%B8.ipynb\" target=\"_parent\"><img src=\"https://colab.research.google.com/assets/colab-badge.svg\" alt=\"Open In Colab\"/></a>"
      ]
    },
    {
      "cell_type": "code",
      "execution_count": null,
      "metadata": {
        "id": "811_ObHUjwNz"
      },
      "outputs": [],
      "source": [
        "2장예제"
      ]
    },
    {
      "cell_type": "code",
      "source": [
        "a = 100\n",
        "b = 200\n",
        "c = a + b\n",
        "print(a, \"+\",b\"=\",c)"
      ],
      "metadata": {
        "colab": {
          "base_uri": "https://localhost:8080/"
        },
        "id": "0Z5KukDXk5w7",
        "outputId": "c01f1481-f9df-4592-d345-ddc1d60ee108"
      },
      "execution_count": 5,
      "outputs": [
        {
          "output_type": "stream",
          "name": "stdout",
          "text": [
            "100 + b'=' 300\n"
          ]
        }
      ]
    },
    {
      "cell_type": "code",
      "source": [
        "num1= 500\n",
        "num2= 200\n",
        "result = num1 - num2\n",
        "print(num1, \"-\", num2 ,\"=\" , result)"
      ],
      "metadata": {
        "colab": {
          "base_uri": "https://localhost:8080/"
        },
        "id": "QZ4GBHZhlyCd",
        "outputId": "384f88a5-cf6c-4b41-99b9-9de6f92efaeb"
      },
      "execution_count": 13,
      "outputs": [
        {
          "output_type": "stream",
          "name": "stdout",
          "text": [
            "500 - 200 = 300\n"
          ]
        }
      ]
    },
    {
      "cell_type": "code",
      "source": [
        "num1 = 8\n",
        "num2 = 17\n",
        "result = num1 * num2\n",
        "print(num1, \"x\", num2 ,\"=\" , result)"
      ],
      "metadata": {
        "colab": {
          "base_uri": "https://localhost:8080/"
        },
        "id": "ISNbKY-jmN51",
        "outputId": "8a8de7f8-9b3f-49b8-8c1e-730daccd8a3d"
      },
      "execution_count": 8,
      "outputs": [
        {
          "output_type": "stream",
          "name": "stdout",
          "text": [
            "8 x 17 = 136\n"
          ]
        }
      ]
    },
    {
      "cell_type": "code",
      "source": [
        "num1 = 8\n",
        "num2 = 17\n",
        "result = num1 / num2\n",
        "print(num1, \"/\", num2 ,\"=\" , result)"
      ],
      "metadata": {
        "colab": {
          "base_uri": "https://localhost:8080/"
        },
        "id": "lJxwb76QmjUk",
        "outputId": "5481ff79-0573-4ea7-a1de-524e8b032138"
      },
      "execution_count": 10,
      "outputs": [
        {
          "output_type": "stream",
          "name": "stdout",
          "text": [
            "8 / 17 = 0.47058823529411764\n"
          ]
        }
      ]
    },
    {
      "cell_type": "code",
      "source": [
        "num1 = 8\n",
        "num2 = 17\n",
        "result = num1 % num2\n",
        "print(num1, \"%\", num2 ,\"=\" , result)"
      ],
      "metadata": {
        "colab": {
          "base_uri": "https://localhost:8080/"
        },
        "id": "fyx5sDPqm3S8",
        "outputId": "b7d0fc72-026a-4db2-e799-95dea9e8eb80"
      },
      "execution_count": 11,
      "outputs": [
        {
          "output_type": "stream",
          "name": "stdout",
          "text": [
            "8 % 17 = 8\n"
          ]
        }
      ]
    },
    {
      "cell_type": "code",
      "source": [
        "num1 = 8\n",
        "num2 = 17\n",
        "result = num1 // num2\n",
        "print(num1, \"//\", num2 ,\"=\" , result)"
      ],
      "metadata": {
        "colab": {
          "base_uri": "https://localhost:8080/"
        },
        "id": "bagRUoXzngll",
        "outputId": "d31c809f-1176-4a51-b434-707a0abd9cb1"
      },
      "execution_count": 12,
      "outputs": [
        {
          "output_type": "stream",
          "name": "stdout",
          "text": [
            "8 // 17 = 0\n"
          ]
        }
      ]
    },
    {
      "cell_type": "markdown",
      "source": [
        "2장 형성평가1"
      ],
      "metadata": {
        "id": "L98xGfa1pMtE"
      }
    },
    {
      "cell_type": "code",
      "source": [
        "num1 = 100\n",
        "num2 = 200\n",
        "result1 = num1 + num2\n",
        "result2 = num1 - num2\n",
        "result3 = num1 * num2\n",
        "result4 = num1 / num2\n",
        "\n",
        "print(num1, \"+\", num2 ,\"=\" , result1)\n",
        "print(num1, \"-\", num2 ,\"=\" , result2)\n",
        "print(num1, \"*\", num2 ,\"=\" , result3)\n",
        "print(num1, \"/\", num2 ,\"=\" , result4)"
      ],
      "metadata": {
        "colab": {
          "base_uri": "https://localhost:8080/"
        },
        "id": "e8Ss7k0apo99",
        "outputId": "c5d06161-eb30-40dd-b971-323d768325a0"
      },
      "execution_count": 14,
      "outputs": [
        {
          "output_type": "stream",
          "name": "stdout",
          "text": [
            "100 + 200 = 300\n",
            "100 - 200 = -100\n",
            "100 * 200 = 20000\n",
            "100 / 200 = 0.5\n"
          ]
        }
      ]
    },
    {
      "cell_type": "code",
      "source": [
        "num1 = int(input(\"숫자1 ==>\"))\n",
        "num2 = int(input(\"숫자2 ==>\"))\n",
        "resylt = num1 + num2\n",
        "print(result)"
      ],
      "metadata": {
        "id": "Qo2I6ptIsGM4"
      },
      "execution_count": null,
      "outputs": []
    },
    {
      "cell_type": "code",
      "source": [
        "print(\"## 택배를 보내기 위한 정보를 입력하세요. ##\")\n",
        "personName = input(\"받는사람 : \")\n",
        "personAddr = intput (\"주소 : \")\n",
        "weight = int(input(\"무게(g) :\"))\n",
        "print(\"** 받는사람 ==>\",personName)\n",
        "print(\"** 주소 =>\", personAddr)\n",
        "\n",
        "print(\"** 배송비 ==>\", weight * 5, \"원\")"
      ],
      "metadata": {
        "colab": {
          "base_uri": "https://localhost:8080/"
        },
        "id": "pLKm0bqftTc-",
        "outputId": "a45f87ba-c145-4417-9e75-d9647394dcd2"
      },
      "execution_count": null,
      "outputs": [
        {
          "output_type": "stream",
          "name": "stdout",
          "text": [
            "## 택배를 보내기 위한 정보를 입력하세요. ##\n"
          ]
        }
      ]
    },
    {
      "cell_type": "code",
      "source": [
        ""
      ],
      "metadata": {
        "id": "B0c8E55Wxkjm"
      },
      "execution_count": null,
      "outputs": []
    }
  ]
}