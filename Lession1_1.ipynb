{
  "nbformat": 4,
  "nbformat_minor": 0,
  "metadata": {
    "colab": {
      "name": "Untitled0.ipynb",
      "provenance": [],
      "authorship_tag": "ABX9TyPaSaaGQcMuDezNMzlosWcy",
      "include_colab_link": true
    },
    "kernelspec": {
      "name": "python3",
      "display_name": "Python 3"
    },
    "language_info": {
      "name": "python"
    }
  },
  "cells": [
    {
      "cell_type": "markdown",
      "metadata": {
        "id": "view-in-github",
        "colab_type": "text"
      },
      "source": [
        "<a href=\"https://colab.research.google.com/github/Kimjihoon2/colab/blob/main/Lession1_1.ipynb\" target=\"_parent\"><img src=\"https://colab.research.google.com/assets/colab-badge.svg\" alt=\"Open In Colab\"/></a>"
      ]
    },
    {
      "cell_type": "markdown",
      "source": [
        "# 파이썬 시작하기\n",
        "\n",
        "*   프로그래밍 언어?\n",
        "   *   컴퓨터와 스마트폰에 들어 있는 많은 소프트웨어\n",
        "유튜브, 메시지, 전화, 카카오톡 등\n",
        "   *   프로그램, 소프트웨어(software),애플리케이션(Appilcation),앱(App),응용\n",
        "   프로그램 모두 동일한 용어입니다.\n",
        "   *   프로그래밍(Programming)\n",
        "    *   프로그램을 만드는 작업\n",
        "   *   프로그래밍 언어(Programming language)\n",
        "    *   사람이 이해하는 말을 언어라고 부르듯이 컴퓨터가 이해하는 언어를 의미\n",
        "    *   프로그래머(Programmer)\n",
        "    *   프로그래밍 언어를 사용하느 소프트웨어나 앱을 만드는 직업을 가진 사람을 의미\n",
        "\n"
      ],
      "metadata": {
        "id": "rvKSuuTiGkmc"
      }
    },
    {
      "cell_type": "code",
      "source": [
        "print(100+300)"
      ],
      "metadata": {
        "colab": {
          "base_uri": "https://localhost:8080/"
        },
        "id": "ILKHS6hSP913",
        "outputId": "21ef3c8c-9cea-4922-b62c-d06e2b82a0f9"
      },
      "execution_count": 1,
      "outputs": [
        {
          "output_type": "stream",
          "name": "stdout",
          "text": [
            "400\n"
          ]
        }
      ]
    },
    {
      "cell_type": "code",
      "execution_count": 2,
      "metadata": {
        "colab": {
          "base_uri": "https://localhost:8080/"
        },
        "id": "qAjJfWsVGjDk",
        "outputId": "3d6a43cb-084f-454d-ee6e-47db73fe7d25"
      },
      "outputs": [
        {
          "output_type": "stream",
          "name": "stdout",
          "text": [
            "70.66666666666667\n"
          ]
        }
      ],
      "source": [
        "print(200/3+4)"
      ]
    },
    {
      "cell_type": "code",
      "source": [
        ""
      ],
      "metadata": {
        "id": "VsxiCvHsRC4M"
      },
      "execution_count": null,
      "outputs": []
    }
  ]
}